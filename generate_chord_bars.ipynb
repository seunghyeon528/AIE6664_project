{
 "cells": [
  {
   "cell_type": "code",
   "execution_count": 1,
   "metadata": {},
   "outputs": [],
   "source": [
    "import miditoolkit\n",
    "import utils"
   ]
  },
  {
   "cell_type": "markdown",
   "metadata": {},
   "source": [
    "# Generate chord - event pair"
   ]
  },
  {
   "cell_type": "code",
   "execution_count": 3,
   "metadata": {},
   "outputs": [],
   "source": [
    "import pickle5 as pickle\n",
    "with open('all_events.pkl', 'rb') as handle:\n",
    "    all_events = pickle.load(handle)"
   ]
  },
  {
   "cell_type": "code",
   "execution_count": 12,
   "metadata": {},
   "outputs": [
    {
     "data": {
      "text/plain": [
       "875"
      ]
     },
     "execution_count": 12,
     "metadata": {},
     "output_type": "execute_result"
    }
   ],
   "source": [
    "len(all_events)"
   ]
  },
  {
   "cell_type": "markdown",
   "metadata": {},
   "source": [
    "### split N bars"
   ]
  },
  {
   "cell_type": "code",
   "execution_count": 133,
   "metadata": {
    "tags": []
   },
   "outputs": [
    {
     "name": "stderr",
     "output_type": "stream",
     "text": [
      "100%|██████████████████████████████████████████████████| 875/875 [00:01<00:00, 792.74it/s]\n"
     ]
    }
   ],
   "source": [
    "from tqdm import tqdm\n",
    "import pdb\n",
    "all_N_bars_events = []\n",
    "N = 4\n",
    "\n",
    "for events in tqdm(all_events):\n",
    "    if len(events) < (N+1):\n",
    "        print(here)\n",
    "        continue\n",
    "    else:\n",
    "        bar_cnt = 0\n",
    "        N_bars_events = []\n",
    "        for event in events:\n",
    "            if event.name == \"Bar\":\n",
    "                if bar_cnt == (N):\n",
    "                    bar_cnt = 0\n",
    "                    all_N_bars_events.append(N_bars_events)\n",
    "                    N_bars_events = []\n",
    "                bar_cnt +=1\n",
    "            N_bars_events.append(event)\n",
    "\n",
    "\n",
    "            \n",
    "        "
   ]
  },
  {
   "cell_type": "code",
   "execution_count": 134,
   "metadata": {
    "tags": []
   },
   "outputs": [
    {
     "data": {
      "text/plain": [
       "17220"
      ]
     },
     "execution_count": 134,
     "metadata": {},
     "output_type": "execute_result"
    }
   ],
   "source": [
    "len(all_N_bars_events)\n",
    "#all_N_bars_events[0]"
   ]
  },
  {
   "cell_type": "markdown",
   "metadata": {},
   "source": [
    "### select chord"
   ]
  },
  {
   "cell_type": "code",
   "execution_count": 135,
   "metadata": {
    "collapsed": true,
    "jupyter": {
     "outputs_hidden": true
    },
    "tags": []
   },
   "outputs": [
    {
     "name": "stderr",
     "output_type": "stream",
     "text": [
      "  5%|██▏                                            | 780/17220 [00:00<00:02, 5719.89it/s]"
     ]
    },
    {
     "name": "stdout",
     "output_type": "stream",
     "text": [
      "N:N\n",
      "N:N\n",
      "N:N\n",
      "N:N\n",
      "N:N\n",
      "N:N\n",
      "N:N\n",
      "N:N\n",
      "N:N\n",
      "N:N\n",
      "N:N\n",
      "N:N\n",
      "N:N\n",
      "N:N\n",
      "N:N\n",
      "N:N\n",
      "N:N\n",
      "N:N\n",
      "N:N\n",
      "N:N\n",
      "N:N\n"
     ]
    },
    {
     "name": "stderr",
     "output_type": "stream",
     "text": [
      " 65%|████████████████████████████▋               | 11221/17220 [00:00<00:00, 29261.73it/s]"
     ]
    },
    {
     "name": "stdout",
     "output_type": "stream",
     "text": [
      "N:N\n",
      "N:N\n",
      "N:N\n",
      "N:N\n",
      "N:N\n",
      "N:N\n",
      "N:N\n",
      "N:N\n",
      "N:N\n",
      "N:N\n",
      "N:N\n",
      "N:N\n",
      "N:N\n",
      "N:N\n",
      "N:N\n",
      "N:N\n",
      "N:N\n",
      "N:N\n",
      "N:N\n",
      "N:N\n",
      "N:N\n",
      "N:N\n",
      "N:N\n",
      "N:N\n",
      "N:N\n",
      "N:N\n",
      "N:N\n",
      "N:N\n",
      "N:N\n",
      "N:N\n",
      "N:N\n",
      "N:N\n",
      "N:N\n",
      "N:N\n",
      "N:N\n",
      "N:N\n",
      "N:N\n",
      "N:N\n",
      "N:N\n",
      "N:N\n",
      "N:N\n",
      "N:N\n",
      "N:N\n",
      "N:N\n",
      "N:N\n",
      "N:N\n",
      "N:N\n",
      "N:N\n",
      "N:N\n",
      "N:N\n",
      "N:N\n"
     ]
    },
    {
     "name": "stderr",
     "output_type": "stream",
     "text": [
      "100%|████████████████████████████████████████████| 17220/17220 [00:00<00:00, 27929.91it/s]"
     ]
    },
    {
     "name": "stdout",
     "output_type": "stream",
     "text": [
      "N:N\n",
      "N:N\n",
      "N:N\n",
      "N:N\n",
      "N:N\n",
      "N:N\n",
      "N:N\n",
      "N:N\n",
      "N:N\n",
      "N:N\n",
      "N:N\n",
      "N:N\n",
      "N:N\n",
      "N:N\n",
      "N:N\n",
      "N:N\n",
      "N:N\n",
      "N:N\n",
      "N:N\n",
      "N:N\n",
      "N:N\n",
      "N:N\n",
      "N:N\n",
      "N:N\n",
      "N:N\n",
      "N:N\n",
      "N:N\n",
      "N:N\n",
      "N:N\n",
      "N:N\n",
      "N:N\n",
      "N:N\n",
      "N:N\n",
      "N:N\n",
      "N:N\n",
      "N:N\n",
      "N:N\n",
      "N:N\n",
      "N:N\n",
      "N:N\n",
      "N:N\n",
      "N:N\n",
      "N:N\n",
      "N:N\n",
      "N:N\n",
      "N:N\n",
      "N:N\n",
      "N:N\n",
      "N:N\n",
      "N:N\n"
     ]
    },
    {
     "name": "stderr",
     "output_type": "stream",
     "text": [
      "\n"
     ]
    }
   ],
   "source": [
    "all_chord_events_list = []\n",
    "for events in tqdm(all_N_bars_events):\n",
    "    chord_events_dict = {}\n",
    "    chord_list = [event.text for event in events if event.name==\"Chord\"]\n",
    "    if \"N:N\" in chord_list:\n",
    "        print(\"N:N\")\n",
    "        continue\n",
    "    elif len(chord_list) == 0:\n",
    "        continue\n",
    "    else:\n",
    "        chord_events_dict['Chord']=chord_list\n",
    "        chord_events_dict['Events']=events\n",
    "        all_chord_events_list.append(chord_events_dict)\n"
   ]
  },
  {
   "cell_type": "code",
   "execution_count": 136,
   "metadata": {},
   "outputs": [
    {
     "data": {
      "text/plain": [
       "(17095, 17220)"
      ]
     },
     "execution_count": 136,
     "metadata": {},
     "output_type": "execute_result"
    }
   ],
   "source": [
    "len(all_chord_events_list),len(all_N_bars_events)"
   ]
  },
  {
   "cell_type": "code",
   "execution_count": 137,
   "metadata": {},
   "outputs": [
    {
     "data": {
      "text/plain": [
       "178"
      ]
     },
     "execution_count": 137,
     "metadata": {},
     "output_type": "execute_result"
    }
   ],
   "source": [
    "\n",
    "len(all_chord_events_list[0]['Events'])"
   ]
  },
  {
   "cell_type": "code",
   "execution_count": 140,
   "metadata": {
    "tags": []
   },
   "outputs": [
    {
     "name": "stdout",
     "output_type": "stream",
     "text": [
      "['G:maj', 'E:min', 'B:min', 'B:min']\n",
      "[Event(name=Bar, time=None, value=None, text=9), Event(name=Position, time=15360, value=1/16, text=15360), Event(name=Tempo Class, time=15360, value=slow, text=None), Event(name=Tempo Value, time=15360, value=45, text=None), Event(name=Position, time=15600, value=3/16, text=15600), Event(name=Note Velocity, time=15600, value=15, text=63/60), Event(name=Note On, time=15600, value=83, text=83), Event(name=Note Duration, time=15600, value=23, text=1455/1440), Event(name=Position, time=15840, value=5/16, text=15840), Event(name=Tempo Class, time=15840, value=slow, text=None), Event(name=Tempo Value, time=15840, value=45, text=None), Event(name=Position, time=15840, value=5/16, text=15840), Event(name=Note Velocity, time=15840, value=15, text=63/60), Event(name=Note On, time=15840, value=78, text=78), Event(name=Note Duration, time=15840, value=20, text=1278/1260), Event(name=Position, time=15840, value=5/16, text=15840), Event(name=Note Velocity, time=15840, value=11, text=44/44), Event(name=Note On, time=15840, value=62, text=62), Event(name=Note Duration, time=15840, value=20, text=1259/1260), Event(name=Position, time=15840, value=5/16, text=15840), Event(name=Note Velocity, time=15840, value=12, text=48/48), Event(name=Note On, time=15840, value=66, text=66), Event(name=Note Duration, time=15840, value=20, text=1240/1260), Event(name=Position, time=15840, value=5/16, text=15840), Event(name=Note Velocity, time=15840, value=12, text=50/48), Event(name=Note On, time=15840, value=71, text=71), Event(name=Note Duration, time=15840, value=15, text=953/960), Event(name=Position, time=16320, value=9/16, text=16320), Event(name=Chord, time=16320, value=G:maj, text=G:maj), Event(name=Position, time=16320, value=9/16, text=16320), Event(name=Tempo Class, time=16320, value=slow, text=None), Event(name=Tempo Value, time=16320, value=46, text=None), Event(name=Position, time=16560, value=11/16, text=16560), Event(name=Note Velocity, time=16560, value=11, text=45/44), Event(name=Note On, time=16560, value=59, text=59), Event(name=Note Duration, time=16560, value=8, text=562/540), Event(name=Position, time=16560, value=11/16, text=16560), Event(name=Note Velocity, time=16560, value=14, text=59/56), Event(name=Note On, time=16560, value=76, text=76), Event(name=Note Duration, time=16560, value=8, text=562/540), Event(name=Position, time=16800, value=13/16, text=16800), Event(name=Tempo Class, time=16800, value=slow, text=None), Event(name=Tempo Value, time=16800, value=45, text=None), Event(name=Position, time=16800, value=13/16, text=16800), Event(name=Note Velocity, time=16800, value=15, text=63/60), Event(name=Note On, time=16800, value=71, text=71), Event(name=Note Duration, time=16800, value=4, text=306/300), Event(name=Position, time=16800, value=13/16, text=16800), Event(name=Note Velocity, time=16800, value=19, text=77/76), Event(name=Note On, time=16800, value=79, text=79), Event(name=Note Duration, time=16800, value=23, text=1436/1440), Event(name=Position, time=17040, value=15/16, text=17040), Event(name=Note Velocity, time=17040, value=13, text=55/52), Event(name=Note On, time=17040, value=52, text=52), Event(name=Note Duration, time=17040, value=24, text=1505/1500), Event(name=Bar, time=None, value=None, text=10), Event(name=Position, time=17280, value=1/16, text=17280), Event(name=Tempo Class, time=17280, value=slow, text=None), Event(name=Tempo Value, time=17280, value=41, text=None), Event(name=Position, time=17280, value=1/16, text=17280), Event(name=Note Velocity, time=17280, value=12, text=49/48), Event(name=Note On, time=17280, value=71, text=71), Event(name=Note Duration, time=17280, value=11, text=715/720), Event(name=Position, time=17280, value=1/16, text=17280), Event(name=Note Velocity, time=17280, value=16, text=64/64), Event(name=Note On, time=17280, value=78, text=78), Event(name=Note Duration, time=17280, value=11, text=715/720), Event(name=Position, time=17520, value=3/16, text=17520), Event(name=Note Velocity, time=17520, value=10, text=42/40), Event(name=Note On, time=17520, value=55, text=55), Event(name=Note Duration, time=17520, value=16, text=1000/1020), Event(name=Position, time=17520, value=3/16, text=17520), Event(name=Note Velocity, time=17520, value=11, text=44/44), Event(name=Note On, time=17520, value=59, text=59), Event(name=Note Duration, time=17520, value=15, text=944/960), Event(name=Position, time=17520, value=3/16, text=17520), Event(name=Note Velocity, time=17520, value=11, text=46/44), Event(name=Note On, time=17520, value=62, text=62), Event(name=Note Duration, time=17520, value=20, text=1259/1260), Event(name=Position, time=17760, value=5/16, text=17760), Event(name=Tempo Class, time=17760, value=slow, text=None), Event(name=Tempo Value, time=17760, value=42, text=None), Event(name=Position, time=18000, value=7/16, text=18000), Event(name=Note Velocity, time=18000, value=11, text=45/44), Event(name=Note On, time=18000, value=71, text=71), Event(name=Note Duration, time=18000, value=12, text=781/780), Event(name=Position, time=18000, value=7/16, text=18000), Event(name=Note Velocity, time=18000, value=15, text=61/60), Event(name=Note On, time=18000, value=78, text=78), Event(name=Note Duration, time=18000, value=6, text=410/420), Event(name=Position, time=18240, value=9/16, text=18240), Event(name=Chord, time=18240, value=E:min, text=E:min), Event(name=Position, time=18240, value=9/16, text=18240), Event(name=Tempo Class, time=18240, value=slow, text=None), Event(name=Tempo Value, time=18240, value=43, text=None), Event(name=Position, time=18240, value=9/16, text=18240), Event(name=Note Velocity, time=18240, value=19, text=78/76), Event(name=Note On, time=18240, value=79, text=79), Event(name=Note Duration, time=18240, value=8, text=540/540), Event(name=Position, time=18480, value=11/16, text=18480), Event(name=Note Velocity, time=18480, value=13, text=52/52), Event(name=Note On, time=18480, value=53, text=53), Event(name=Note Duration, time=18480, value=3, text=262/240), Event(name=Position, time=18480, value=11/16, text=18480), Event(name=Note Velocity, time=18480, value=20, text=80/80), Event(name=Note On, time=18480, value=78, text=78), Event(name=Note Duration, time=18480, value=5, text=333/360), Event(name=Position, time=18720, value=13/16, text=18720), Event(name=Tempo Class, time=18720, value=slow, text=None), Event(name=Tempo Value, time=18720, value=39, text=None), Event(name=Position, time=18720, value=13/16, text=18720), Event(name=Note Velocity, time=18720, value=13, text=52/52), Event(name=Note On, time=18720, value=54, text=54), Event(name=Note Duration, time=18720, value=28, text=1764/1740), Event(name=Position, time=18720, value=13/16, text=18720), Event(name=Note Velocity, time=18720, value=12, text=51/48), Event(name=Note On, time=18720, value=57, text=57), Event(name=Note Duration, time=18720, value=26, text=1608/1620), Event(name=Position, time=18720, value=13/16, text=18720), Event(name=Note Velocity, time=18720, value=11, text=44/44), Event(name=Note On, time=18720, value=61, text=61), Event(name=Note Duration, time=18720, value=33, text=2037/2040), Event(name=Position, time=18720, value=13/16, text=18720), Event(name=Note Velocity, time=18720, value=19, text=76/76), Event(name=Note On, time=18720, value=81, text=81), Event(name=Note Duration, time=18720, value=34, text=2114/2100), Event(name=Position, time=18720, value=13/16, text=18720), Event(name=Note Velocity, time=18720, value=15, text=60/60), Event(name=Note On, time=18720, value=69, text=69), Event(name=Note Duration, time=18720, value=7, text=466/480), Event(name=Bar, time=None, value=None, text=11), Event(name=Position, time=19200, value=1/16, text=19200), Event(name=Tempo Class, time=19200, value=slow, text=None), Event(name=Tempo Value, time=19200, value=59, text=None), Event(name=Position, time=19200, value=1/16, text=19200), Event(name=Note Velocity, time=19200, value=10, text=43/40), Event(name=Note On, time=19200, value=69, text=69), Event(name=Note Duration, time=19200, value=15, text=951/960), Event(name=Position, time=19200, value=1/16, text=19200), Event(name=Note Velocity, time=19200, value=15, text=63/60), Event(name=Note On, time=19200, value=78, text=78), Event(name=Note Duration, time=19200, value=15, text=951/960), Event(name=Position, time=19680, value=5/16, text=19680), Event(name=Tempo Class, time=19680, value=slow, text=None), Event(name=Tempo Value, time=19680, value=53, text=None), Event(name=Position, time=20160, value=9/16, text=20160), Event(name=Chord, time=20160, value=B:min, text=B:min), Event(name=Position, time=20160, value=9/16, text=20160), Event(name=Tempo Class, time=20160, value=slow, text=None), Event(name=Tempo Value, time=20160, value=45, text=None), Event(name=Position, time=20160, value=9/16, text=20160), Event(name=Note Velocity, time=20160, value=11, text=45/44), Event(name=Note On, time=20160, value=59, text=59), Event(name=Note Duration, time=20160, value=15, text=952/960), Event(name=Position, time=20160, value=9/16, text=20160), Event(name=Note Velocity, time=20160, value=12, text=49/48), Event(name=Note On, time=20160, value=69, text=69), Event(name=Note Duration, time=20160, value=7, text=487/480), Event(name=Position, time=20160, value=9/16, text=20160), Event(name=Note Velocity, time=20160, value=15, text=62/60), Event(name=Note On, time=20160, value=78, text=78), Event(name=Note Duration, time=20160, value=7, text=487/480), Event(name=Position, time=20400, value=11/16, text=20400), Event(name=Note Velocity, time=20400, value=19, text=78/76), Event(name=Note On, time=20400, value=79, text=79), Event(name=Note Duration, time=20400, value=12, text=773/780), Event(name=Position, time=20640, value=13/16, text=20640), Event(name=Tempo Class, time=20640, value=slow, text=None), Event(name=Tempo Value, time=20640, value=45, text=None), Event(name=Position, time=20640, value=13/16, text=20640), Event(name=Note Velocity, time=20640, value=15, text=63/60), Event(name=Note On, time=20640, value=69, text=69), Event(name=Note Duration, time=20640, value=3, text=232/240), Event(name=Position, time=20640, value=13/16, text=20640), Event(name=Note Velocity, time=20640, value=19, text=79/76), Event(name=Note On, time=20640, value=78, text=78), Event(name=Note Duration, time=20640, value=8, text=557/540), Event(name=Position, time=20880, value=15/16, text=20880), Event(name=Note Velocity, time=20880, value=15, text=61/60), Event(name=Note On, time=20880, value=69, text=69), Event(name=Note Duration, time=20880, value=7, text=506/480), Event(name=Position, time=20880, value=15/16, text=20880), Event(name=Note Velocity, time=20880, value=19, text=77/76), Event(name=Note On, time=20880, value=81, text=81), Event(name=Note Duration, time=20880, value=20, text=1254/1260), Event(name=Bar, time=None, value=None, text=12), Event(name=Position, time=21120, value=1/16, text=21120), Event(name=Tempo Class, time=21120, value=slow, text=None), Event(name=Tempo Value, time=21120, value=40, text=None), Event(name=Position, time=21120, value=1/16, text=21120), Event(name=Note Velocity, time=21120, value=10, text=41/40), Event(name=Note On, time=21120, value=57, text=57), Event(name=Note Duration, time=21120, value=28, text=1754/1740), Event(name=Position, time=21120, value=1/16, text=21120), Event(name=Note Velocity, time=21120, value=11, text=46/44), Event(name=Note On, time=21120, value=59, text=59), Event(name=Note Duration, time=21120, value=11, text=746/720), Event(name=Position, time=21120, value=1/16, text=21120), Event(name=Note Velocity, time=21120, value=11, text=46/44), Event(name=Note On, time=21120, value=62, text=62), Event(name=Note Duration, time=21120, value=11, text=746/720), Event(name=Position, time=21120, value=1/16, text=21120), Event(name=Note Velocity, time=21120, value=11, text=45/44), Event(name=Note On, time=21120, value=64, text=64), Event(name=Note Duration, time=21120, value=11, text=746/720), Event(name=Position, time=21360, value=3/16, text=21360), Event(name=Note Velocity, time=21360, value=15, text=63/60), Event(name=Note On, time=21360, value=78, text=78), Event(name=Note Duration, time=21360, value=11, text=707/720), Event(name=Position, time=21360, value=3/16, text=21360), Event(name=Note Velocity, time=21360, value=11, text=46/44), Event(name=Note On, time=21360, value=69, text=69), Event(name=Note Duration, time=21360, value=11, text=709/720), Event(name=Position, time=21600, value=5/16, text=21600), Event(name=Tempo Class, time=21600, value=slow, text=None), Event(name=Tempo Value, time=21600, value=46, text=None), Event(name=Position, time=21840, value=7/16, text=21840), Event(name=Note Velocity, time=21840, value=11, text=45/44), Event(name=Note On, time=21840, value=59, text=59), Event(name=Note Duration, time=21840, value=11, text=709/720), Event(name=Position, time=21840, value=7/16, text=21840), Event(name=Note Velocity, time=21840, value=11, text=44/44), Event(name=Note On, time=21840, value=62, text=62), Event(name=Note Duration, time=21840, value=19, text=1186/1200), Event(name=Position, time=21840, value=7/16, text=21840), Event(name=Note Velocity, time=21840, value=12, text=48/48), Event(name=Note On, time=21840, value=64, text=64), Event(name=Note Duration, time=21840, value=11, text=709/720), Event(name=Position, time=22080, value=9/16, text=22080), Event(name=Chord, time=22080, value=B:min, text=B:min), Event(name=Position, time=22080, value=9/16, text=22080), Event(name=Tempo Class, time=22080, value=slow, text=None), Event(name=Tempo Value, time=22080, value=46, text=None), Event(name=Position, time=22080, value=9/16, text=22080), Event(name=Note Velocity, time=22080, value=15, text=63/60), Event(name=Note On, time=22080, value=78, text=78), Event(name=Note Duration, time=22080, value=7, text=472/480), Event(name=Position, time=22080, value=9/16, text=22080), Event(name=Note Velocity, time=22080, value=11, text=46/44), Event(name=Note On, time=22080, value=69, text=69), Event(name=Note Duration, time=22080, value=7, text=473/480), Event(name=Position, time=22320, value=11/16, text=22320), Event(name=Note Velocity, time=22320, value=16, text=66/64), Event(name=Note On, time=22320, value=79, text=79), Event(name=Note Duration, time=22320, value=7, text=455/480), Event(name=Position, time=22560, value=13/16, text=22560), Event(name=Tempo Class, time=22560, value=slow, text=None), Event(name=Tempo Value, time=22560, value=47, text=None), Event(name=Position, time=22560, value=13/16, text=22560), Event(name=Note Velocity, time=22560, value=19, text=76/76), Event(name=Note On, time=22560, value=78, text=78), Event(name=Note Duration, time=22560, value=8, text=540/540), Event(name=Position, time=22560, value=13/16, text=22560), Event(name=Note Velocity, time=22560, value=12, text=51/48), Event(name=Note On, time=22560, value=59, text=59), Event(name=Note Duration, time=22560, value=7, text=477/480), Event(name=Position, time=22560, value=13/16, text=22560), Event(name=Note Velocity, time=22560, value=12, text=49/48), Event(name=Note On, time=22560, value=64, text=64), Event(name=Note Duration, time=22560, value=8, text=539/540), Event(name=Position, time=22560, value=13/16, text=22560), Event(name=Note Velocity, time=22560, value=14, text=59/56), Event(name=Note On, time=22560, value=69, text=69), Event(name=Note Duration, time=22560, value=8, text=519/540), Event(name=Position, time=22800, value=15/16, text=22800), Event(name=Note Velocity, time=22800, value=19, text=79/76), Event(name=Note On, time=22800, value=79, text=79), Event(name=Note Duration, time=22800, value=4, text=301/300)]\n"
     ]
    }
   ],
   "source": [
    "print(all_chord_events_list[2]['Chord'])\n",
    "print(all_chord_events_list[2]['Events'])"
   ]
  },
  {
   "cell_type": "markdown",
   "metadata": {},
   "source": [
    "### Save"
   ]
  },
  {
   "cell_type": "code",
   "execution_count": 132,
   "metadata": {},
   "outputs": [],
   "source": [
    "SAVE_PATH = 'all_chord_{}_bars.pkl'.format(N)\n",
    "with open(SAVE_PATH, 'wb') as f:\n",
    "    pickle.dump(all_chord_events_list , f, protocol=pickle.HIGHEST_PROTOCOL)"
   ]
  }
 ],
 "metadata": {
  "kernelspec": {
   "display_name": "ai_music2",
   "language": "python",
   "name": "ai_music"
  },
  "language_info": {
   "codemirror_mode": {
    "name": "ipython",
    "version": 3
   },
   "file_extension": ".py",
   "mimetype": "text/x-python",
   "name": "python",
   "nbconvert_exporter": "python",
   "pygments_lexer": "ipython3",
   "version": "3.7.12"
  }
 },
 "nbformat": 4,
 "nbformat_minor": 4
}
